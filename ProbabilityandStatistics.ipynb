{
 "cells": [
  {
   "cell_type": "code",
   "execution_count": 1,
   "metadata": {},
   "outputs": [
    {
     "data": {
      "text/plain": [
       "'C:\\\\Users\\\\sridharvumma'"
      ]
     },
     "execution_count": 1,
     "metadata": {},
     "output_type": "execute_result"
    }
   ],
   "source": [
    "import os\n",
    "os.getcwd()\n"
   ]
  },
  {
   "cell_type": "code",
   "execution_count": 1,
   "metadata": {},
   "outputs": [],
   "source": [
    "import numpy as np\n",
    "total_tosses = 30\n",
    "num_heads =  24\n",
    "prob_head = 0.5\n",
    "\n",
    "experiment = np.random.randint(0,2, total_tosses)\n"
   ]
  },
  {
   "cell_type": "code",
   "execution_count": 2,
   "metadata": {},
   "outputs": [],
   "source": [
    "head_count= experiment[experiment==1].shape[0]"
   ]
  },
  {
   "cell_type": "code",
   "execution_count": 3,
   "metadata": {},
   "outputs": [
    {
     "data": {
      "text/plain": [
       "array([1, 0, 0, 1, 0, 0, 0, 0, 1, 1, 0, 1, 0, 0, 1, 0, 0, 0, 1, 1, 1, 1,\n",
       "       1, 0, 1, 1, 1, 0, 0, 0])"
      ]
     },
     "execution_count": 3,
     "metadata": {},
     "output_type": "execute_result"
    }
   ],
   "source": [
    "experiment"
   ]
  },
  {
   "cell_type": "code",
   "execution_count": null,
   "metadata": {},
   "outputs": [],
   "source": []
  },
  {
   "cell_type": "code",
   "execution_count": 4,
   "metadata": {},
   "outputs": [
    {
     "data": {
      "text/plain": [
       "14"
      ]
     },
     "execution_count": 4,
     "metadata": {},
     "output_type": "execute_result"
    }
   ],
   "source": [
    "head_count"
   ]
  },
  {
   "cell_type": "code",
   "execution_count": 13,
   "metadata": {},
   "outputs": [],
   "source": [
    "import pandas as pd\n",
    "import matplotlib.pyplot as plt"
   ]
  },
  {
   "cell_type": "code",
   "execution_count": 14,
   "metadata": {},
   "outputs": [
    {
     "data": {
      "text/html": [
       "<div>\n",
       "<style scoped>\n",
       "    .dataframe tbody tr th:only-of-type {\n",
       "        vertical-align: middle;\n",
       "    }\n",
       "\n",
       "    .dataframe tbody tr th {\n",
       "        vertical-align: top;\n",
       "    }\n",
       "\n",
       "    .dataframe thead th {\n",
       "        text-align: right;\n",
       "    }\n",
       "</style>\n",
       "<table border=\"1\" class=\"dataframe\">\n",
       "  <thead>\n",
       "    <tr style=\"text-align: right;\">\n",
       "      <th></th>\n",
       "      <th>case</th>\n",
       "      <th>cc3</th>\n",
       "      <th>country</th>\n",
       "      <th>year</th>\n",
       "      <th>systemic_crisis</th>\n",
       "      <th>exch_usd</th>\n",
       "      <th>domestic_debt_in_default</th>\n",
       "      <th>sovereign_external_debt_default</th>\n",
       "      <th>gdp_weighted_default</th>\n",
       "      <th>inflation_annual_cpi</th>\n",
       "      <th>independence</th>\n",
       "      <th>currency_crises</th>\n",
       "      <th>inflation_crises</th>\n",
       "      <th>banking_crisis</th>\n",
       "    </tr>\n",
       "  </thead>\n",
       "  <tbody>\n",
       "    <tr>\n",
       "      <th>0</th>\n",
       "      <td>1</td>\n",
       "      <td>DZA</td>\n",
       "      <td>Algeria</td>\n",
       "      <td>1870</td>\n",
       "      <td>1</td>\n",
       "      <td>0.052264</td>\n",
       "      <td>0</td>\n",
       "      <td>0</td>\n",
       "      <td>0.0</td>\n",
       "      <td>3.441456</td>\n",
       "      <td>0</td>\n",
       "      <td>0</td>\n",
       "      <td>0</td>\n",
       "      <td>crisis</td>\n",
       "    </tr>\n",
       "    <tr>\n",
       "      <th>1</th>\n",
       "      <td>1</td>\n",
       "      <td>DZA</td>\n",
       "      <td>Algeria</td>\n",
       "      <td>1871</td>\n",
       "      <td>0</td>\n",
       "      <td>0.052798</td>\n",
       "      <td>0</td>\n",
       "      <td>0</td>\n",
       "      <td>0.0</td>\n",
       "      <td>14.149140</td>\n",
       "      <td>0</td>\n",
       "      <td>0</td>\n",
       "      <td>0</td>\n",
       "      <td>no_crisis</td>\n",
       "    </tr>\n",
       "    <tr>\n",
       "      <th>2</th>\n",
       "      <td>1</td>\n",
       "      <td>DZA</td>\n",
       "      <td>Algeria</td>\n",
       "      <td>1872</td>\n",
       "      <td>0</td>\n",
       "      <td>0.052274</td>\n",
       "      <td>0</td>\n",
       "      <td>0</td>\n",
       "      <td>0.0</td>\n",
       "      <td>-3.718593</td>\n",
       "      <td>0</td>\n",
       "      <td>0</td>\n",
       "      <td>0</td>\n",
       "      <td>no_crisis</td>\n",
       "    </tr>\n",
       "    <tr>\n",
       "      <th>3</th>\n",
       "      <td>1</td>\n",
       "      <td>DZA</td>\n",
       "      <td>Algeria</td>\n",
       "      <td>1873</td>\n",
       "      <td>0</td>\n",
       "      <td>0.051680</td>\n",
       "      <td>0</td>\n",
       "      <td>0</td>\n",
       "      <td>0.0</td>\n",
       "      <td>11.203897</td>\n",
       "      <td>0</td>\n",
       "      <td>0</td>\n",
       "      <td>0</td>\n",
       "      <td>no_crisis</td>\n",
       "    </tr>\n",
       "    <tr>\n",
       "      <th>4</th>\n",
       "      <td>1</td>\n",
       "      <td>DZA</td>\n",
       "      <td>Algeria</td>\n",
       "      <td>1874</td>\n",
       "      <td>0</td>\n",
       "      <td>0.051308</td>\n",
       "      <td>0</td>\n",
       "      <td>0</td>\n",
       "      <td>0.0</td>\n",
       "      <td>-3.848561</td>\n",
       "      <td>0</td>\n",
       "      <td>0</td>\n",
       "      <td>0</td>\n",
       "      <td>no_crisis</td>\n",
       "    </tr>\n",
       "  </tbody>\n",
       "</table>\n",
       "</div>"
      ],
      "text/plain": [
       "   case  cc3  country  year  systemic_crisis  exch_usd  \\\n",
       "0     1  DZA  Algeria  1870                1  0.052264   \n",
       "1     1  DZA  Algeria  1871                0  0.052798   \n",
       "2     1  DZA  Algeria  1872                0  0.052274   \n",
       "3     1  DZA  Algeria  1873                0  0.051680   \n",
       "4     1  DZA  Algeria  1874                0  0.051308   \n",
       "\n",
       "   domestic_debt_in_default  sovereign_external_debt_default  \\\n",
       "0                         0                                0   \n",
       "1                         0                                0   \n",
       "2                         0                                0   \n",
       "3                         0                                0   \n",
       "4                         0                                0   \n",
       "\n",
       "   gdp_weighted_default  inflation_annual_cpi  independence  currency_crises  \\\n",
       "0                   0.0              3.441456             0                0   \n",
       "1                   0.0             14.149140             0                0   \n",
       "2                   0.0             -3.718593             0                0   \n",
       "3                   0.0             11.203897             0                0   \n",
       "4                   0.0             -3.848561             0                0   \n",
       "\n",
       "   inflation_crises banking_crisis  \n",
       "0                 0         crisis  \n",
       "1                 0      no_crisis  \n",
       "2                 0      no_crisis  \n",
       "3                 0      no_crisis  \n",
       "4                 0      no_crisis  "
      ]
     },
     "execution_count": 14,
     "metadata": {},
     "output_type": "execute_result"
    }
   ],
   "source": [
    "probdf=pd.read_csv(\"sprint_4_prob_stats.csv\")\n",
    "probdf.head()"
   ]
  },
  {
   "cell_type": "code",
   "execution_count": 48,
   "metadata": {},
   "outputs": [
    {
     "data": {
      "text/html": [
       "<div>\n",
       "<style scoped>\n",
       "    .dataframe tbody tr th:only-of-type {\n",
       "        vertical-align: middle;\n",
       "    }\n",
       "\n",
       "    .dataframe tbody tr th {\n",
       "        vertical-align: top;\n",
       "    }\n",
       "\n",
       "    .dataframe thead th {\n",
       "        text-align: right;\n",
       "    }\n",
       "</style>\n",
       "<table border=\"1\" class=\"dataframe\">\n",
       "  <thead>\n",
       "    <tr style=\"text-align: right;\">\n",
       "      <th></th>\n",
       "      <th>case</th>\n",
       "      <th>cc3</th>\n",
       "      <th>country</th>\n",
       "      <th>year</th>\n",
       "      <th>systemic_crisis</th>\n",
       "      <th>exch_usd</th>\n",
       "      <th>domestic_debt_in_default</th>\n",
       "      <th>sovereign_external_debt_default</th>\n",
       "      <th>gdp_weighted_default</th>\n",
       "      <th>inflation_annual_cpi</th>\n",
       "      <th>independence</th>\n",
       "      <th>currency_crises</th>\n",
       "      <th>inflation_crises</th>\n",
       "      <th>banking_crisis</th>\n",
       "    </tr>\n",
       "  </thead>\n",
       "  <tbody>\n",
       "    <tr>\n",
       "      <th>1049</th>\n",
       "      <td>70</td>\n",
       "      <td>ZWE</td>\n",
       "      <td>Zimbabwe</td>\n",
       "      <td>2004</td>\n",
       "      <td>1</td>\n",
       "      <td>5.600000e-23</td>\n",
       "      <td>1</td>\n",
       "      <td>1</td>\n",
       "      <td>0.0</td>\n",
       "      <td>1.327468e+02</td>\n",
       "      <td>1</td>\n",
       "      <td>1</td>\n",
       "      <td>1</td>\n",
       "      <td>crisis</td>\n",
       "    </tr>\n",
       "    <tr>\n",
       "      <th>1050</th>\n",
       "      <td>70</td>\n",
       "      <td>ZWE</td>\n",
       "      <td>Zimbabwe</td>\n",
       "      <td>2005</td>\n",
       "      <td>1</td>\n",
       "      <td>8.460000e-22</td>\n",
       "      <td>1</td>\n",
       "      <td>1</td>\n",
       "      <td>0.0</td>\n",
       "      <td>5.858444e+02</td>\n",
       "      <td>1</td>\n",
       "      <td>1</td>\n",
       "      <td>1</td>\n",
       "      <td>crisis</td>\n",
       "    </tr>\n",
       "    <tr>\n",
       "      <th>1051</th>\n",
       "      <td>70</td>\n",
       "      <td>ZWE</td>\n",
       "      <td>Zimbabwe</td>\n",
       "      <td>2006</td>\n",
       "      <td>1</td>\n",
       "      <td>3.000000e-19</td>\n",
       "      <td>1</td>\n",
       "      <td>1</td>\n",
       "      <td>0.0</td>\n",
       "      <td>1.281114e+03</td>\n",
       "      <td>1</td>\n",
       "      <td>1</td>\n",
       "      <td>1</td>\n",
       "      <td>crisis</td>\n",
       "    </tr>\n",
       "    <tr>\n",
       "      <th>1052</th>\n",
       "      <td>70</td>\n",
       "      <td>ZWE</td>\n",
       "      <td>Zimbabwe</td>\n",
       "      <td>2007</td>\n",
       "      <td>1</td>\n",
       "      <td>1.900000e-16</td>\n",
       "      <td>1</td>\n",
       "      <td>1</td>\n",
       "      <td>0.0</td>\n",
       "      <td>6.627989e+04</td>\n",
       "      <td>1</td>\n",
       "      <td>1</td>\n",
       "      <td>1</td>\n",
       "      <td>crisis</td>\n",
       "    </tr>\n",
       "    <tr>\n",
       "      <th>1053</th>\n",
       "      <td>70</td>\n",
       "      <td>ZWE</td>\n",
       "      <td>Zimbabwe</td>\n",
       "      <td>2008</td>\n",
       "      <td>1</td>\n",
       "      <td>2.000000e-03</td>\n",
       "      <td>1</td>\n",
       "      <td>1</td>\n",
       "      <td>0.0</td>\n",
       "      <td>2.198970e+07</td>\n",
       "      <td>1</td>\n",
       "      <td>1</td>\n",
       "      <td>1</td>\n",
       "      <td>crisis</td>\n",
       "    </tr>\n",
       "    <tr>\n",
       "      <th>1054</th>\n",
       "      <td>70</td>\n",
       "      <td>ZWE</td>\n",
       "      <td>Zimbabwe</td>\n",
       "      <td>2009</td>\n",
       "      <td>1</td>\n",
       "      <td>3.548000e+02</td>\n",
       "      <td>1</td>\n",
       "      <td>1</td>\n",
       "      <td>0.0</td>\n",
       "      <td>-7.670000e+00</td>\n",
       "      <td>1</td>\n",
       "      <td>1</td>\n",
       "      <td>0</td>\n",
       "      <td>crisis</td>\n",
       "    </tr>\n",
       "    <tr>\n",
       "      <th>1055</th>\n",
       "      <td>70</td>\n",
       "      <td>ZWE</td>\n",
       "      <td>Zimbabwe</td>\n",
       "      <td>2010</td>\n",
       "      <td>0</td>\n",
       "      <td>3.782000e+02</td>\n",
       "      <td>1</td>\n",
       "      <td>1</td>\n",
       "      <td>0.0</td>\n",
       "      <td>3.217000e+00</td>\n",
       "      <td>1</td>\n",
       "      <td>0</td>\n",
       "      <td>0</td>\n",
       "      <td>no_crisis</td>\n",
       "    </tr>\n",
       "    <tr>\n",
       "      <th>1056</th>\n",
       "      <td>70</td>\n",
       "      <td>ZWE</td>\n",
       "      <td>Zimbabwe</td>\n",
       "      <td>2011</td>\n",
       "      <td>0</td>\n",
       "      <td>3.619000e+02</td>\n",
       "      <td>1</td>\n",
       "      <td>1</td>\n",
       "      <td>0.0</td>\n",
       "      <td>4.920000e+00</td>\n",
       "      <td>1</td>\n",
       "      <td>0</td>\n",
       "      <td>0</td>\n",
       "      <td>no_crisis</td>\n",
       "    </tr>\n",
       "    <tr>\n",
       "      <th>1057</th>\n",
       "      <td>70</td>\n",
       "      <td>ZWE</td>\n",
       "      <td>Zimbabwe</td>\n",
       "      <td>2012</td>\n",
       "      <td>0</td>\n",
       "      <td>3.619000e+02</td>\n",
       "      <td>1</td>\n",
       "      <td>1</td>\n",
       "      <td>0.0</td>\n",
       "      <td>3.720000e+00</td>\n",
       "      <td>1</td>\n",
       "      <td>0</td>\n",
       "      <td>0</td>\n",
       "      <td>no_crisis</td>\n",
       "    </tr>\n",
       "    <tr>\n",
       "      <th>1058</th>\n",
       "      <td>70</td>\n",
       "      <td>ZWE</td>\n",
       "      <td>Zimbabwe</td>\n",
       "      <td>2013</td>\n",
       "      <td>0</td>\n",
       "      <td>3.619000e+02</td>\n",
       "      <td>1</td>\n",
       "      <td>1</td>\n",
       "      <td>0.0</td>\n",
       "      <td>1.632000e+00</td>\n",
       "      <td>1</td>\n",
       "      <td>0</td>\n",
       "      <td>0</td>\n",
       "      <td>no_crisis</td>\n",
       "    </tr>\n",
       "  </tbody>\n",
       "</table>\n",
       "</div>"
      ],
      "text/plain": [
       "      case  cc3   country  year  systemic_crisis      exch_usd  \\\n",
       "1049    70  ZWE  Zimbabwe  2004                1  5.600000e-23   \n",
       "1050    70  ZWE  Zimbabwe  2005                1  8.460000e-22   \n",
       "1051    70  ZWE  Zimbabwe  2006                1  3.000000e-19   \n",
       "1052    70  ZWE  Zimbabwe  2007                1  1.900000e-16   \n",
       "1053    70  ZWE  Zimbabwe  2008                1  2.000000e-03   \n",
       "1054    70  ZWE  Zimbabwe  2009                1  3.548000e+02   \n",
       "1055    70  ZWE  Zimbabwe  2010                0  3.782000e+02   \n",
       "1056    70  ZWE  Zimbabwe  2011                0  3.619000e+02   \n",
       "1057    70  ZWE  Zimbabwe  2012                0  3.619000e+02   \n",
       "1058    70  ZWE  Zimbabwe  2013                0  3.619000e+02   \n",
       "\n",
       "      domestic_debt_in_default  sovereign_external_debt_default  \\\n",
       "1049                         1                                1   \n",
       "1050                         1                                1   \n",
       "1051                         1                                1   \n",
       "1052                         1                                1   \n",
       "1053                         1                                1   \n",
       "1054                         1                                1   \n",
       "1055                         1                                1   \n",
       "1056                         1                                1   \n",
       "1057                         1                                1   \n",
       "1058                         1                                1   \n",
       "\n",
       "      gdp_weighted_default  inflation_annual_cpi  independence  \\\n",
       "1049                   0.0          1.327468e+02             1   \n",
       "1050                   0.0          5.858444e+02             1   \n",
       "1051                   0.0          1.281114e+03             1   \n",
       "1052                   0.0          6.627989e+04             1   \n",
       "1053                   0.0          2.198970e+07             1   \n",
       "1054                   0.0         -7.670000e+00             1   \n",
       "1055                   0.0          3.217000e+00             1   \n",
       "1056                   0.0          4.920000e+00             1   \n",
       "1057                   0.0          3.720000e+00             1   \n",
       "1058                   0.0          1.632000e+00             1   \n",
       "\n",
       "      currency_crises  inflation_crises banking_crisis  \n",
       "1049                1                 1         crisis  \n",
       "1050                1                 1         crisis  \n",
       "1051                1                 1         crisis  \n",
       "1052                1                 1         crisis  \n",
       "1053                1                 1         crisis  \n",
       "1054                1                 0         crisis  \n",
       "1055                0                 0      no_crisis  \n",
       "1056                0                 0      no_crisis  \n",
       "1057                0                 0      no_crisis  \n",
       "1058                0                 0      no_crisis  "
      ]
     },
     "execution_count": 48,
     "metadata": {},
     "output_type": "execute_result"
    }
   ],
   "source": [
    "probdf.tail(10)"
   ]
  },
  {
   "cell_type": "code",
   "execution_count": 15,
   "metadata": {},
   "outputs": [
    {
     "name": "stdout",
     "output_type": "stream",
     "text": [
      "Country:  Algeria\n",
      "Country:  Angola\n",
      "Country:  Central African Republic\n",
      "Country:  Ivory Coast\n",
      "Country:  Egypt\n",
      "Country:  Kenya\n",
      "Country:  Mauritius\n",
      "Country:  Morocco\n",
      "Country:  Nigeria\n",
      "Country:  South Africa\n",
      "Country:  Tunisia\n",
      "Country:  Zambia\n",
      "Country:  Zimbabwe\n"
     ]
    }
   ],
   "source": [
    "for c in list(probdf['country'].unique()):\n",
    "    print(\"Country: \", c)"
   ]
  },
  {
   "cell_type": "code",
   "execution_count": 16,
   "metadata": {},
   "outputs": [],
   "source": [
    "def visual_summary(type_, df, col):\n",
    "    \"\"\"Summarize the Data using Visual Method.\n",
    "    \n",
    "    This function accepts the type of visualization, the data frame and the column to be summarized.\n",
    "    It displays the chart based on the given parameters.\n",
    "    \n",
    "    Keyword arguments:\n",
    "    type_ -- visualization method to be used\n",
    "    df -- the dataframe\n",
    "    col -- the column in the dataframe to be summarized\n",
    "    \"\"\"\n",
    "    if type_ == 'hist':\n",
    "        df[col].hist(bins =20)\n",
    "        plt.show()\n",
    "    elif type_ == 'scatter':\n",
    "        plt.scatter(df[col[0]], df[col[1]])\n",
    "        plt.show() \n",
    "    elif type_ == 'pie':\n",
    "        plt.pie(df[col].value_counts())  \n",
    "        plt.show()\n",
    "    else:\n",
    "        print(\"Call the function again with proper parameters\")      "
   ]
  },
  {
   "cell_type": "code",
   "execution_count": 17,
   "metadata": {},
   "outputs": [
    {
     "name": "stdout",
     "output_type": "stream",
     "text": [
      "Distribution of the Countries\n"
     ]
    },
    {
     "data": {
      "image/png": "[encoded data removed]",
      "text/plain": [
       "<Figure size 432x288 with 1 Axes>"
      ]
     },
     "metadata": {},
     "output_type": "display_data"
    },
    {
     "name": "stdout",
     "output_type": "stream",
     "text": [
      "Distribution of exch_usd\n"
     ]
    },
    {
     "data": {
      "image/png": "[encoded data removed]",
      "text/plain": [
       "<Figure size 432x288 with 1 Axes>"
      ]
     },
     "metadata": {
      "needs_background": "light"
     },
     "output_type": "display_data"
    },
    {
     "name": "stdout",
     "output_type": "stream",
     "text": [
      "Country:  Algeria\n"
     ]
    },
    {
     "data": {
      "image/png": "[encoded data removed]",
      "text/plain": [
       "<Figure size 432x288 with 1 Axes>"
      ]
     },
     "metadata": {
      "needs_background": "light"
     },
     "output_type": "display_data"
    },
    {
     "name": "stdout",
     "output_type": "stream",
     "text": [
      "Country:  Angola\n"
     ]
    },
    {
     "data": {
      "image/png": "[encoded data removed]",
      "text/plain": [
       "<Figure size 432x288 with 1 Axes>"
      ]
     },
     "metadata": {
      "needs_background": "light"
     },
     "output_type": "display_data"
    },
    {
     "name": "stdout",
     "output_type": "stream",
     "text": [
      "Country:  Central African Republic\n"
     ]
    },
    {
     "data": {
      "image/png": "[encoded data removed]",
      "text/plain": [
       "<Figure size 432x288 with 1 Axes>"
      ]
     },
     "metadata": {
      "needs_background": "light"
     },
     "output_type": "display_data"
    },
    {
     "name": "stdout",
     "output_type": "stream",
     "text": [
      "Country:  Ivory Coast\n"
     ]
    },
    {
     "data": {
      "image/png": "[encoded data removed]",
      "text/plain": [
       "<Figure size 432x288 with 1 Axes>"
      ]
     },
     "metadata": {
      "needs_background": "light"
     },
     "output_type": "display_data"
    },
    {
     "name": "stdout",
     "output_type": "stream",
     "text": [
      "Country:  Egypt\n"
     ]
    },
    {
     "data": {
      "image/png": "[encoded data removed]",
      "text/plain": [
       "<Figure size 432x288 with 1 Axes>"
      ]
     },
     "metadata": {
      "needs_background": "light"
     },
     "output_type": "display_data"
    },
    {
     "name": "stdout",
     "output_type": "stream",
     "text": [
      "Country:  Kenya\n"
     ]
    },
    {
     "data": {
      "image/png": "[encoded data removed]",
      "text/plain": [
       "<Figure size 432x288 with 1 Axes>"
      ]
     },
     "metadata": {
      "needs_background": "light"
     },
     "output_type": "display_data"
    },
    {
     "name": "stdout",
     "output_type": "stream",
     "text": [
      "Country:  Mauritius\n"
     ]
    },
    {
     "data": {
      "image/png": "[encoded data removed]",
      "text/plain": [
       "<Figure size 432x288 with 1 Axes>"
      ]
     },
     "metadata": {
      "needs_background": "light"
     },
     "output_type": "display_data"
    },
    {
     "name": "stdout",
     "output_type": "stream",
     "text": [
      "Country:  Morocco\n"
     ]
    },
    {
     "data": {
      "image/png": "[encoded data removed]",
      "text/plain": [
       "<Figure size 432x288 with 1 Axes>"
      ]
     },
     "metadata": {
      "needs_background": "light"
     },
     "output_type": "display_data"
    },
    {
     "name": "stdout",
     "output_type": "stream",
     "text": [
      "Country:  Nigeria\n"
     ]
    },
    {
     "data": {
      "image/png": "[encoded data removed]",
      "text/plain": [
       "<Figure size 432x288 with 1 Axes>"
      ]
     },
     "metadata": {
      "needs_background": "light"
     },
     "output_type": "display_data"
    },
    {
     "name": "stdout",
     "output_type": "stream",
     "text": [
      "Country:  South Africa\n"
     ]
    },
    {
     "data": {
      "image/png": "[encoded data removed]",
      "text/plain": [
       "<Figure size 432x288 with 1 Axes>"
      ]
     },
     "metadata": {
      "needs_background": "light"
     },
     "output_type": "display_data"
    },
    {
     "name": "stdout",
     "output_type": "stream",
     "text": [
      "Country:  Tunisia\n"
     ]
    },
    {
     "data": {
      "image/png": "[encoded data removed]",
      "text/plain": [
       "<Figure size 432x288 with 1 Axes>"
      ]
     },
     "metadata": {
      "needs_background": "light"
     },
     "output_type": "display_data"
    },
    {
     "name": "stdout",
     "output_type": "stream",
     "text": [
      "Country:  Zambia\n"
     ]
    },
    {
     "data": {
      "image/png": "[encoded data removed]",
      "text/plain": [
       "<Figure size 432x288 with 1 Axes>"
      ]
     },
     "metadata": {
      "needs_background": "light"
     },
     "output_type": "display_data"
    },
    {
     "name": "stdout",
     "output_type": "stream",
     "text": [
      "Country:  Zimbabwe\n"
     ]
    },
    {
     "data": {
      "image/png": "[encoded data removed]",
      "text/plain": [
       "<Figure size 432x288 with 1 Axes>"
      ]
     },
     "metadata": {
      "needs_background": "light"
     },
     "output_type": "display_data"
    }
   ],
   "source": [
    "print(\"Distribution of the Countries\")\n",
    "visual_summary('pie', probdf, 'country' )\n",
    "print(\"Distribution of exch_usd\")\n",
    "visual_summary('hist', probdf, 'exch_usd')\n",
    "\n",
    "for c in list(probdf['country'].unique()):\n",
    "    print(\"Country: \", c)\n",
    "    visual_summary('scatter', probdf[probdf['country'] == c], ['year', 'inflation_annual_cpi'])\n"
   ]
  },
  {
   "cell_type": "code",
   "execution_count": 19,
   "metadata": {},
   "outputs": [],
   "source": [
    "def central_tendency(type_, df, col):\n",
    "    \"\"\"Calculate the measure of central tendency.\n",
    "    \n",
    "    This function accepts the type of central tendency to be calculated, the data frame and the required column.\n",
    "    It returns the calculated measure.\n",
    "    \n",
    "    Keyword arguments:\n",
    "    type_ -- type of central tendency to be calculated\n",
    "    df -- the dataframe\n",
    "    col -- the column in the dataframe to do the calculations\n",
    "    \n",
    "    Returns:\n",
    "    cent_tend -- the calculated measure of central tendency\n",
    "    \"\"\"\n",
    "    if type_ == 'mean':\n",
    "        cent_tend = df[col].mean()\n",
    "    elif type_ == 'mode':\n",
    "        cent_tend = df[col].mode()\n",
    "    elif type_ == 'median':\n",
    "        cent_tend = df[col].median()\n",
    "    return cent_tend  "
   ]
  },
  {
   "cell_type": "code",
   "execution_count": 21,
   "metadata": {},
   "outputs": [
    {
     "name": "stdout",
     "output_type": "stream",
     "text": [
      "Mean of exch_usd: 43.14083067115856\n",
      "Mode of country 0    Egypt\n",
      "dtype: object\n",
      "Median of exch_usd: 0.8684\n"
     ]
    }
   ],
   "source": [
    "print(\"Mean of exch_usd:\", central_tendency('mean', probdf, 'exch_usd'))\n",
    "print(\"Mode of country\", central_tendency('mode', probdf, 'country'))\n",
    "print(\"Median of exch_usd:\", central_tendency('median', probdf, 'exch_usd'))"
   ]
  },
  {
   "cell_type": "code",
   "execution_count": 39,
   "metadata": {},
   "outputs": [],
   "source": [
    "def measure_of_dispersion(type_, df, col):\n",
    "    \"\"\"Calculate the measure of dispersion.\n",
    "    \n",
    "    This function accepts the measure of dispersion to be calculated, the data frame and the required column(s).\n",
    "    It returns the calculated measure.\n",
    "    \n",
    "    Keyword arguments:\n",
    "    type_ -- type of central tendency to be calculated\n",
    "    df -- the dataframe\n",
    "    col -- the column(s) in the dataframe to do the calculations, this is a list with 2 elements if we want to calculate covariance\n",
    "    \n",
    "    Returns:\n",
    "    disp -- the calculated measure of dispersion\n",
    "    \"\"\"\n",
    "    if type_ == 'range':\n",
    "        maximum = df[col].max()\n",
    "        minimum = df[col].min()\n",
    "        disp = maximum - minimum \n",
    "\n",
    "    elif type_ == 'MAD':\n",
    "        mean = df[col].mean()\n",
    "        distance = abs(df[col] - mean)\n",
    "        disp = distance.sum()/len(distance)\n",
    "\n",
    "    elif type_ == 'std_dev':\n",
    "        mean = df[col].mean()\n",
    "        distance = (df[col]- mean)**2\n",
    "        disp = (distance.sum()/len(distance))**(1/2)\n",
    "\n",
    "    elif type_ == 'CV':       \n",
    "        mean = df[col].mean()\n",
    "        distance = (df[col]- mean)**2\n",
    "        std = (distance.sum()/len(distance))**(1/2)        \n",
    "        disp = (std/mean)*100\n",
    "\n",
    "    elif type_ == 'iqr':\n",
    "        q1 = df[col].quantile(q=0.25)\n",
    "        q3 = df[col].quantile(q=0.75)\n",
    "        disp = q3-q1 \n",
    "\n",
    "    elif type_ == 'cov':\n",
    "        new = df[col]\n",
    "        mean_col1 = new[col[0]].mean()\n",
    "        mean_col2 = new[col[1]].mean()\n",
    "        diff_col1 = (new[col[0]] - mean_col1)\n",
    "        diff_col2 = (new[col[1]] - mean_col2)\n",
    "        summation = (diff_col1 * diff_col2).sum()\n",
    "        n = new.shape[0]\n",
    "        disp = summation/n\n",
    "\n",
    "    else:\n",
    "        print(\"Call the measure_of_dispersion() with proper parameters.\")\n",
    "\n",
    "    return disp    \n"
   ]
  },
  {
   "cell_type": "code",
   "execution_count": 41,
   "metadata": {},
   "outputs": [
    {
     "name": "stdout",
     "output_type": "stream",
     "text": [
      "Range of inflation_annual_cpi:  21989723.722136877\n",
      "MAD of gdp_weighted_default: 0.012441797943968734\n",
      "CV of gdp_weighted_default: 680.2432156845994\n",
      "Std Dev of gdp_weighted_default: 0.04355098208065706\n",
      "Cov between 'gdp_weighted_default', 'inflation_annual_cpi': -133.40752083518692\n"
     ]
    }
   ],
   "source": [
    "print(\"Range of inflation_annual_cpi: \", measure_of_dispersion('range', probdf, 'inflation_annual_cpi'))\n",
    "print(\"MAD of gdp_weighted_default:\", measure_of_dispersion('MAD', probdf, 'gdp_weighted_default'))\n",
    "print(\"CV of gdp_weighted_default:\", measure_of_dispersion('CV', probdf, 'gdp_weighted_default'))\n",
    "print(\"Std Dev of gdp_weighted_default:\", measure_of_dispersion('std_dev', probdf, 'gdp_weighted_default'))\n",
    "print(\"Cov between 'gdp_weighted_default', 'inflation_annual_cpi':\", measure_of_dispersion('cov', probdf, ['gdp_weighted_default', 'inflation_annual_cpi']))\n"
   ]
  },
  {
   "cell_type": "code",
   "execution_count": 42,
   "metadata": {},
   "outputs": [],
   "source": [
    "def calculate_correlation(type_, df, col1, col2):\n",
    "    \"\"\"Calculate the defined correlation coefficient.\n",
    "    \n",
    "    This function accepts the type of correlation coefficient to be calculated, the data frame and the two column.\n",
    "    It returns the calculated coefficient.\n",
    "    \n",
    "    Keyword arguments:\n",
    "    type_ -- type of correlation coefficient to be calculated\n",
    "    df -- the dataframe\n",
    "    col1 -- first column\n",
    "    col2 -- second column\n",
    "    \n",
    "    Returns:\n",
    "    corr -- the calculated correlation coefficient\n",
    "    \"\"\"\n",
    "    newdf = df[[col1, col2]]\n",
    "    \n",
    "    if type_ == 'Pearson':\n",
    "        # Calulating Pearson correlation coefficient\n",
    "        covariance = newdf.cov().iloc[0,1]\n",
    "        std_col1 = newdf[col1].std()\n",
    "        std_col2 = newdf[col2].std()\n",
    "        corr = covariance/(std_col1*std_col2)\n",
    "        \n",
    "    elif type_ == 'Spearman':\n",
    "        # Calculating Spearman rank correlation coefficient\n",
    "        ranks = newdf.rank(axis=0)\n",
    "        ranks['d^2'] = (ranks[col1] - ranks[col2])**2\n",
    "        d_square = ranks['d^2'].sum()\n",
    "        n = ranks.shape[0]\n",
    "        corr = 1 - ((6*d_square)/(n**3 - n))\n",
    "        \n",
    "    else:\n",
    "        print(\"Call the calculate_correlation() with proper parameters.\")\n",
    "    \n",
    "    \n",
    "    return corr\n"
   ]
  },
  {
   "cell_type": "code",
   "execution_count": 44,
   "metadata": {},
   "outputs": [
    {
     "name": "stdout",
     "output_type": "stream",
     "text": [
      "Corr between inflation_annual_cpi and systemic_crisis 0.10645164388681207\n"
     ]
    }
   ],
   "source": [
    "print(\"Corr between inflation_annual_cpi and systemic_crisis\", calculate_correlation('Pearson',probdf,'inflation_annual_cpi','systemic_crisis'))"
   ]
  },
  {
   "cell_type": "code",
   "execution_count": 45,
   "metadata": {},
   "outputs": [],
   "source": [
    "def calculate_probability_discrete(data, event):\n",
    "    \"\"\"Calculates the probability of an event from a discrete distribution.\n",
    "    \n",
    "    This function accepts the distribution of a variable and the event, and returns the probability of the event.\n",
    "    \n",
    "    Keyword arguments:\n",
    "    data -- series that contains the distribution of the discrete variable\n",
    "    event -- the event for which the probability is to be calculated\n",
    "    \n",
    "    Returns:\n",
    "    prob -- calculated probability fo the event\n",
    "    \"\"\"\n",
    "    total = data.value_counts().sum()\n",
    "    yes = data.value_counts()[event]\n",
    "    prob = yes/total\n",
    "\n",
    "    return prob\n"
   ]
  },
  {
   "cell_type": "code",
   "execution_count": 47,
   "metadata": {},
   "outputs": [
    {
     "name": "stdout",
     "output_type": "stream",
     "text": [
      "Country:  Algeria\n",
      "Probability of Crisis:  0.0471\n",
      "Country:  Angola\n",
      "Probability of Crisis:  0.0909\n",
      "Country:  Central African Republic\n",
      "Probability of Crisis:  0.3276\n",
      "Country:  Ivory Coast\n",
      "Probability of Crisis:  0.0635\n",
      "Country:  Egypt\n",
      "Probability of Crisis:  0.071\n",
      "Country:  Kenya\n",
      "Probability of Crisis:  0.1194\n",
      "Country:  Mauritius\n",
      "Probability of Crisis:  0.0147\n",
      "Country:  Morocco\n",
      "Probability of Crisis:  0.0267\n",
      "Country:  Nigeria\n",
      "Probability of Crisis:  0.1833\n",
      "Country:  South Africa\n",
      "Probability of Crisis:  0.0263\n",
      "Country:  Tunisia\n",
      "Probability of Crisis:  0.0667\n",
      "Country:  Zambia\n",
      "Probability of Crisis:  0.0556\n",
      "Country:  Zimbabwe\n",
      "Probability of Crisis:  0.1667\n",
      "{'Algeria': 0.0471, 'Angola': 0.0909, 'Central African Republic': 0.3276, 'Ivory Coast': 0.0635, 'Egypt': 0.071, 'Kenya': 0.1194, 'Mauritius': 0.0147, 'Morocco': 0.0267, 'Nigeria': 0.1833, 'South Africa': 0.0263, 'Tunisia': 0.0667, 'Zambia': 0.0556, 'Zimbabwe': 0.1667}\n"
     ]
    }
   ],
   "source": [
    "# From the given data, let's check the probability of banking_crisis for different countries.\n",
    "# Call the calculate_probability_discrete() to check the desired probability.\n",
    "# Also check which country has the maximum probability of facing the crisis.  \n",
    "# You can do it by storing the probabilities in a dictionary, with country name as the key. Or you are free to use any other technique.\n",
    "prob_crisis = {}\n",
    "for c in list(probdf.country.unique()):\n",
    "        print(\"Country: \", c)\n",
    "        prob_crisis[c] = round(calculate_probability_discrete(probdf[probdf['country'] == c]['banking_crisis'], 'crisis' ), 4)\n",
    "        print(\"Probability of Crisis: \", prob_crisis[c])\n",
    "        \n",
    "print(prob_crisis)"
   ]
  },
  {
   "cell_type": "code",
   "execution_count": null,
   "metadata": {},
   "outputs": [],
   "source": []
  },
  {
   "cell_type": "code",
   "execution_count": 56,
   "metadata": {},
   "outputs": [],
   "source": [
    "def event_independence_check(prob_event1, prob_event2, prob_event1_event2):\n",
    "    \"\"\"Checks if two events are independent.\n",
    "    \n",
    "    This function accepts the probability of 2 events and their joint probability.\n",
    "    And prints if the events are independent or not.\n",
    "    \n",
    "    Keyword arguments:\n",
    "    prob_event1 -- probability of event1\n",
    "    prob_event2 -- probability of event2\n",
    "    prob_event1_event2 -- probability of event1 and event2\n",
    "    \"\"\"\n",
    "    if (prob_event1_event2 == prob_event1 * prob_event2):\n",
    "        print(\"Event 1 and Event 2 are independent.\")\n",
    "    else:\n",
    "        print(\"Event 1 and Event 2 are not independent.\")\n",
    "\n",
    "    \n",
    "    \n",
    "\n",
    "\n"
   ]
  },
  {
   "cell_type": "code",
   "execution_count": 57,
   "metadata": {},
   "outputs": [
    {
     "name": "stdout",
     "output_type": "stream",
     "text": [
      "0.06137865911237017 0.01661374557393304\n",
      "Event 1 and Event 2 are not independent.\n"
     ]
    }
   ],
   "source": [
    "# Next, let us check if banking_crisis is independent of systemic_crisis, currency_crisis & inflation_crisis.\n",
    "# Calculate the probabilities of these event using calculate_probability_discrete() & joint probabilities as well.\n",
    "# Then call event_independence_check() with above probabilities to check for independence.\n",
    "b_crisis = calculate_probability_discrete(probdf['banking_crisis'], 'crisis' )\n",
    "s_crisis = calculate_probability_discrete(probdf['systemic_crisis'], 1 )\n",
    "c_crisis = calculate_probability_discrete(probdf['currency_crises'], 1 )\n",
    "i_crisis = calculate_probability_discrete(probdf['inflation_crises'], 1 )\n",
    "\n",
    "df1 = probdf[probdf['currency_crises'] == 1]\n",
    "\n",
    "# Calculate the P(A|B)\n",
    "p_i_given_c = df1[df1['inflation_crises'] == 1].shape[0]/df1.shape[0]\n",
    "p_c_i = p_i_given_c * c_crisis\n",
    "print(p_c_i, c_crisis * i_crisis)\n",
    "event_independence_check(c_crisis, i_crisis, p_c_i)\n"
   ]
  },
  {
   "cell_type": "code",
   "execution_count": 58,
   "metadata": {},
   "outputs": [],
   "source": [
    "def bayes_theorem(df, col1, event1, col2, event2):\n",
    "    \"\"\"Calculates the conditional probability using Bayes Theorem.\n",
    "    \n",
    "    This function accepts the dataframe, two columns along with two conditions to calculate the probability, P(B|A).\n",
    "    You can call the calculate_probability_discrete() to find the basic probabilities and then use them to find the conditional probability.\n",
    "    \n",
    "    Keyword arguments:\n",
    "    df -- the dataframe\n",
    "    col1 -- the first column where the first event is recorded\n",
    "    event1 -- event to define the first condition\n",
    "    col2 -- the second column where the second event is recorded\n",
    "    event2 -- event to define the second condition\n",
    "    \n",
    "    Returns:\n",
    "    prob -- calculated probability for the event1 given event2 has already occured\n",
    "    \"\"\"\n",
    "    p_A = calculate_probability_discrete(df[col1],event1)\n",
    "    p_B = calculate_probability_discrete(df[col2],event2)\n",
    "    p_B_given_A = calculate_probability_discrete(df[df[col1]==event1][col2],event2)\n",
    "    \n",
    "    prob = (p_A*p_B_given_A)/p_B\n",
    "        \n",
    "    return prob"
   ]
  },
  {
   "cell_type": "code",
   "execution_count": 60,
   "metadata": {},
   "outputs": [
    {
     "name": "stdout",
     "output_type": "stream",
     "text": [
      "Probability of banking_crisis given that other crisis have already occured: [0.9268292682926829, 0.21323529411764705, 0.2627737226277373]\n"
     ]
    }
   ],
   "source": [
    "prob_ = []\n",
    "\n",
    "prob_.append(bayes_theorem(probdf,'banking_crisis','crisis','systemic_crisis', 1))\n",
    "prob_.append(bayes_theorem(probdf,'banking_crisis','crisis','currency_crises', 1))\n",
    "prob_.append(bayes_theorem(probdf,'banking_crisis','crisis','inflation_crises', 1))\n",
    "\n",
    "\n",
    "print(\"Probability of banking_crisis given that other crisis have already occured:\", prob_)"
   ]
  },
  {
   "cell_type": "code",
   "execution_count": null,
   "metadata": {},
   "outputs": [],
   "source": []
  }
 ],
 "metadata": {
  "kernelspec": {
   "display_name": "Python 3",
   "language": "python",
   "name": "python3"
  },
  "language_info": {
   "codemirror_mode": {
    "name": "ipython",
    "version": 3
   },
   "file_extension": ".py",
   "mimetype": "text/x-python",
   "name": "python",
   "nbconvert_exporter": "python",
   "pygments_lexer": "ipython3",
   "version": "3.7.6"
  }
 },
 "nbformat": 4,
 "nbformat_minor": 4
}
